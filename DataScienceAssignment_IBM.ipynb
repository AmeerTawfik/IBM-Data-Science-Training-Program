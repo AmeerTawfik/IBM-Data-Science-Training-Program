{
  "nbformat": 4,
  "nbformat_minor": 0,
  "metadata": {
    "colab": {
      "provenance": []
    },
    "kernelspec": {
      "name": "python3",
      "display_name": "Python 3"
    },
    "language_info": {
      "name": "python"
    }
  },
  "cells": [
    {
      "cell_type": "markdown",
      "source": [
        "# **DataScienceAssignment-IBM**\n",
        "---"
      ],
      "metadata": {
        "id": "AsVT3eMByvvd"
      }
    },
    {
      "cell_type": "markdown",
      "source": [
        "In this notebook, We'll talk a little bit about Data Science.\n",
        "I have passion about the world of data, as it can be the solution for almost everything, if we can manage and use the correct tools on the right data, we will find answers always.\n",
        "\n",
        "---"
      ],
      "metadata": {
        "id": "spskv-aGzMJF"
      }
    },
    {
      "cell_type": "markdown",
      "source": [
        "## **Objectives:**\n",
        "* List popular languages for Data Science.\n",
        "* List common used libraries by Data Scientists.\n",
        "* List Data Science Tools Table.\n",
        "* Perform simple arithmatic expressions.\n",
        "\n",
        "---"
      ],
      "metadata": {
        "id": "32zT5SyV90EN"
      }
    },
    {
      "cell_type": "markdown",
      "source": [
        "### Some of the popular languages that Data Scientists use are:\n",
        "1. **Python**\n",
        "2. **R**\n",
        "3. **SQL**\n",
        "4. **Scala**\n",
        "\n",
        "And much more can be listed.\n",
        "\n",
        "---"
      ],
      "metadata": {
        "id": "XaU_YLjS0WiW"
      }
    },
    {
      "cell_type": "markdown",
      "source": [
        "### Some of the commonly used libraries used by Data Scientists include:\n",
        "1. **Numpy**\n",
        "2. **Pandas**\n",
        "3. **Matplotlib**\n",
        "4. **Scikit-learn**\n",
        "5. **ggplot**\n",
        "6. **Caret**\n",
        "And much more can be listed.\n",
        "\n",
        "---"
      ],
      "metadata": {
        "id": "LdcbYoA_06V0"
      }
    },
    {
      "cell_type": "markdown",
      "source": [
        "| Data Science Tools |\n",
        "| -------------|\n",
        "| Hadoop |\n",
        "| Spark |\n",
        "| KNIME |"
      ],
      "metadata": {
        "id": "kercsP5z14lT"
      }
    },
    {
      "cell_type": "markdown",
      "source": [
        "---\n",
        "### Below are a few examples of evaluating arithmetic expressions in Python"
      ],
      "metadata": {
        "id": "pL4vusMI4G4B"
      }
    },
    {
      "cell_type": "code",
      "execution_count": 1,
      "metadata": {
        "colab": {
          "base_uri": "https://localhost:8080/"
        },
        "id": "EDVG5AJDyO-E",
        "outputId": "142190bb-1dc1-4898-cf5a-da885f9f25a3"
      },
      "outputs": [
        {
          "output_type": "execute_result",
          "data": {
            "text/plain": [
              "17"
            ]
          },
          "metadata": {},
          "execution_count": 1
        }
      ],
      "source": [
        "# This a simple arithmetic expression to mutiply then add integers\n",
        "(3*4)+5"
      ]
    },
    {
      "cell_type": "code",
      "source": [
        "# This will convert 200 minutes to hours by diving by 60\n",
        "200/60"
      ],
      "metadata": {
        "colab": {
          "base_uri": "https://localhost:8080/"
        },
        "id": "bGlF5Gpk4SYQ",
        "outputId": "562c8d1c-c9bc-454e-b4aa-16d39bdcaf31"
      },
      "execution_count": 2,
      "outputs": [
        {
          "output_type": "execute_result",
          "data": {
            "text/plain": [
              "3.3333333333333335"
            ]
          },
          "metadata": {},
          "execution_count": 2
        }
      ]
    },
    {
      "cell_type": "markdown",
      "source": [
        "## Author\n",
        "Ameer Alzerei"
      ],
      "metadata": {
        "id": "koJDN469-js0"
      }
    },
    {
      "cell_type": "code",
      "source": [],
      "metadata": {
        "id": "NP9wkhlb9s9R"
      },
      "execution_count": null,
      "outputs": []
    }
  ]
}